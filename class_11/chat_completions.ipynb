{
  "nbformat": 4,
  "nbformat_minor": 0,
  "metadata": {
    "colab": {
      "provenance": []
    },
    "kernelspec": {
      "name": "python3",
      "display_name": "Python 3"
    },
    "language_info": {
      "name": "python"
    }
  },
  "cells": [
    {
      "cell_type": "code",
      "execution_count": null,
      "metadata": {
        "colab": {
          "base_uri": "https://localhost:8080/"
        },
        "id": "9WExlDSitqUm",
        "outputId": "9cd2bd65-5487-4fd0-c444-82523f1b8c44"
      },
      "outputs": [
        {
          "output_type": "stream",
          "name": "stdout",
          "text": [
            "\u001b[2K     \u001b[90m━━━━━━━━━━━━━━━━━━━━━━━━━━━━━━━━━━━━━━━━\u001b[0m \u001b[32m40.1/40.1 kB\u001b[0m \u001b[31m2.8 MB/s\u001b[0m eta \u001b[36m0:00:00\u001b[0m\n",
            "\u001b[2K   \u001b[90m━━━━━━━━━━━━━━━━━━━━━━━━━━━━━━━━━━━━━━━━\u001b[0m \u001b[32m126.7/126.7 kB\u001b[0m \u001b[31m10.3 MB/s\u001b[0m eta \u001b[36m0:00:00\u001b[0m\n",
            "\u001b[2K   \u001b[90m━━━━━━━━━━━━━━━━━━━━━━━━━━━━━━━━━━━━━━━━\u001b[0m \u001b[32m129.3/129.3 kB\u001b[0m \u001b[31m10.2 MB/s\u001b[0m eta \u001b[36m0:00:00\u001b[0m\n",
            "\u001b[2K   \u001b[90m━━━━━━━━━━━━━━━━━━━━━━━━━━━━━━━━━━━━━━━━\u001b[0m \u001b[32m150.9/150.9 kB\u001b[0m \u001b[31m11.9 MB/s\u001b[0m eta \u001b[36m0:00:00\u001b[0m\n",
            "\u001b[2K   \u001b[90m━━━━━━━━━━━━━━━━━━━━━━━━━━━━━━━━━━━━━━━━\u001b[0m \u001b[32m45.2/45.2 kB\u001b[0m \u001b[31m3.5 MB/s\u001b[0m eta \u001b[36m0:00:00\u001b[0m\n",
            "\u001b[?25h"
          ]
        }
      ],
      "source": [
        "!pip install -Uq openai-agents"
      ]
    },
    {
      "cell_type": "code",
      "source": [
        "import nest_asyncio\n",
        "nest_asyncio.apply()"
      ],
      "metadata": {
        "id": "fQe5NEap6m8W"
      },
      "execution_count": 10,
      "outputs": []
    },
    {
      "cell_type": "code",
      "source": [
        "\n",
        "from google.colab import userdata\n",
        "\n",
        "OPENROUTER_API_KEY = userdata.get(\"OPENROUTER_API_KEY\")"
      ],
      "metadata": {
        "id": "laLEvv126tZl"
      },
      "execution_count": 11,
      "outputs": []
    },
    {
      "cell_type": "code",
      "source": [
        "BASE_URL = \"https://openrouter.ai/api/v1\"\n",
        "MODEL = \"deepseek/deepseek-r1-0528-qwen3-8b:free\""
      ],
      "metadata": {
        "id": "mcHKyI5x6zLd"
      },
      "execution_count": 12,
      "outputs": []
    },
    {
      "cell_type": "code",
      "source": [
        "import asyncio\n",
        "from openai import AsyncOpenAI # chat completions\n",
        "from agents import Agent, OpenAIChatCompletionsModel, Runner, set_tracing_disabled\n",
        "\n",
        "set_tracing_disabled(disabled=True) # Open AI Tracing == Disable\n",
        "\n",
        "client = AsyncOpenAI(\n",
        "    api_key=OPENROUTER_API_KEY,\n",
        "    base_url=BASE_URL\n",
        ")\n",
        "\n",
        "\n",
        "async def main():\n",
        "    # This agent will use the custom LLM provider\n",
        "    agent = Agent(\n",
        "        name=\"LahoreTA\",\n",
        "        instructions=\"You only respond in english.\",\n",
        "        model=OpenAIChatCompletionsModel(model=MODEL, openai_client=client),\n",
        "    )\n",
        "\n",
        "    result = await Runner.run(\n",
        "        agent, # starting agent\n",
        "        \"What is your name?.\", # request\n",
        "    )\n",
        "    print(result.final_output)\n",
        "\n",
        "\n",
        "asyncio.run(main())"
      ],
      "metadata": {
        "colab": {
          "base_uri": "https://localhost:8080/"
        },
        "id": "WyV6o1qc64AW",
        "outputId": "04eefe2f-daba-4d39-e790-a968ab6c794f"
      },
      "execution_count": 13,
      "outputs": [
        {
          "output_type": "stream",
          "name": "stdout",
          "text": [
            "My name is DeepSeek-R1. You can also just call me DeepSeek — it's nice to meet you!\n"
          ]
        }
      ]
    }
  ]
}